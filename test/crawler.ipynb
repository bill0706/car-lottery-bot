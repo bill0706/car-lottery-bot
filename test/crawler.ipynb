{
 "cells": [
  {
   "cell_type": "code",
   "execution_count": 30,
   "metadata": {},
   "outputs": [],
   "source": [
    "import requests\n",
    "from bs4 import BeautifulSoup"
   ]
  },
  {
   "cell_type": "code",
   "execution_count": 41,
   "metadata": {},
   "outputs": [],
   "source": [
    "response = requests.get(\"http://www.gzyfxzl.com/pk10kai_history/\")"
   ]
  },
  {
   "cell_type": "code",
   "execution_count": 42,
   "metadata": {
    "scrolled": true
   },
   "outputs": [
    {
     "data": {
      "text/plain": [
       "<Response [200]>"
      ]
     },
     "execution_count": 42,
     "metadata": {},
     "output_type": "execute_result"
    }
   ],
   "source": [
    "response"
   ]
  },
  {
   "cell_type": "code",
   "execution_count": 43,
   "metadata": {},
   "outputs": [],
   "source": [
    "soup = BeautifulSoup(response.text, \"lxml\")"
   ]
  },
  {
   "cell_type": "code",
   "execution_count": 34,
   "metadata": {},
   "outputs": [],
   "source": [
    "# get "
   ]
  },
  {
   "cell_type": "code",
   "execution_count": 44,
   "metadata": {},
   "outputs": [],
   "source": [
    "time_block = soup.find(class_='cuttime')"
   ]
  },
  {
   "cell_type": "code",
   "execution_count": 45,
   "metadata": {},
   "outputs": [
    {
     "data": {
      "text/plain": [
       "<div class=\"cuttime\">\n",
       "<span class=\"bgtime hour\">00</span>\n",
       "<span class=\"hourtxt\">æ¶</span>\n",
       "<span class=\"bgtime minute\">00</span>\n",
       "<span>å</span>\n",
       "<span class=\"bgtime second\">00</span>\n",
       "<span>ç§</span>\n",
       "</div>"
      ]
     },
     "execution_count": 45,
     "metadata": {},
     "output_type": "execute_result"
    }
   ],
   "source": [
    "# time is fake\n",
    "time_block"
   ]
  },
  {
   "cell_type": "code",
   "execution_count": 14,
   "metadata": {},
   "outputs": [
    {
     "data": {
      "text/plain": [
       "<span class=\"bgtime minute\">00</span>"
      ]
     },
     "execution_count": 14,
     "metadata": {},
     "output_type": "execute_result"
    }
   ],
   "source": [
    "time_block.find(class_='bgtime minute')"
   ]
  },
  {
   "cell_type": "code",
   "execution_count": 16,
   "metadata": {},
   "outputs": [],
   "source": [
    "minute = time_block.find(class_='bgtime minute').text"
   ]
  },
  {
   "cell_type": "code",
   "execution_count": 17,
   "metadata": {},
   "outputs": [
    {
     "data": {
      "text/plain": [
       "'00'"
      ]
     },
     "execution_count": 17,
     "metadata": {},
     "output_type": "execute_result"
    }
   ],
   "source": [
    "minute"
   ]
  },
  {
   "cell_type": "code",
   "execution_count": 18,
   "metadata": {},
   "outputs": [],
   "source": [
    "second = time_block.find(class_='bgtime second').text"
   ]
  },
  {
   "cell_type": "code",
   "execution_count": null,
   "metadata": {},
   "outputs": [],
   "source": []
  },
  {
   "cell_type": "code",
   "execution_count": 19,
   "metadata": {},
   "outputs": [],
   "source": [
    "# get prize number"
   ]
  },
  {
   "cell_type": "code",
   "execution_count": 25,
   "metadata": {},
   "outputs": [],
   "source": [
    "number_block = soup.find(class_='numberbox')"
   ]
  },
  {
   "cell_type": "code",
   "execution_count": 26,
   "metadata": {
    "scrolled": true
   },
   "outputs": [
    {
     "data": {
      "text/plain": [
       "<ul class=\"numberbox\" id=\"jnumber\">\n",
       "<li class=\"numsm02\"></li>\n",
       "<li class=\"numsm01\"></li>\n",
       "<li class=\"numsm10\"></li>\n",
       "<li class=\"numsm04\"></li>\n",
       "<li class=\"numsm03\"></li>\n",
       "<li class=\"numsm06\"></li>\n",
       "<li class=\"numsm07\"></li>\n",
       "<li class=\"numsm08\"></li>\n",
       "<li class=\"numsm05\"></li>\n",
       "<li class=\"numsm09 li_after\"></li>\n",
       "</ul>"
      ]
     },
     "execution_count": 26,
     "metadata": {},
     "output_type": "execute_result"
    }
   ],
   "source": [
    "# it's fake html\n",
    "number_block "
   ]
  },
  {
   "cell_type": "code",
   "execution_count": null,
   "metadata": {},
   "outputs": [],
   "source": []
  },
  {
   "cell_type": "code",
   "execution_count": 31,
   "metadata": {},
   "outputs": [],
   "source": [
    "headers = {\n",
    "    'Accept': 'text/html,application/xhtml+xml,application/xml;q=0.9,image/avif,image/webp,image/apng,*/*;q=0.8,application/signed-exchange;v=b3;q=0.9',\n",
    "    'Accept-Encoding': 'gzip, deflate, br',\n",
    "    'Accept-Language': 'en-US,en;q=0.9,zh-TW;q=0.8,zh;q=0.7',\n",
    "    'Cache-Control': 'max-age=0',\n",
    "    'Connection': 'keep-alive',\n",
    "    'Host': 'api.apiose122.com',\n",
    "    'sec-ch-ua': '\"Chromium\";v=\"92\", \" Not A;Brand\";v=\"99\", \"Google Chrome\";v=\"92\"',\n",
    "    'sec-ch-ua-mobile': '?0',\n",
    "    'Sec-Fetch-Dest': 'document',\n",
    "    'Sec-Fetch-Mode': 'navigate',\n",
    "    'Sec-Fetch-Site': 'none',\n",
    "    'Sec-Fetch-User': '?1',\n",
    "    'Upgrade-Insecure-Requests': '1',\n",
    "    'User-Agent': 'Mozilla/5.0 (Windows NT 10.0; Win64; x64) AppleWebKit/537.36 (KHTML, like Gecko) Chrome/92.0.4515.131 Safari/537.36'\n",
    "}"
   ]
  },
  {
   "cell_type": "code",
   "execution_count": 32,
   "metadata": {},
   "outputs": [],
   "source": [
    "response = requests.get(\"https://api.apiose122.com/pks/getPksDoubleCount.do?date=&lotCode=10037\", headers=headers)"
   ]
  },
  {
   "cell_type": "code",
   "execution_count": 33,
   "metadata": {},
   "outputs": [
    {
     "data": {
      "text/plain": [
       "<Response [200]>"
      ]
     },
     "execution_count": 33,
     "metadata": {},
     "output_type": "execute_result"
    }
   ],
   "source": [
    "response"
   ]
  },
  {
   "cell_type": "code",
   "execution_count": 34,
   "metadata": {
    "scrolled": true
   },
   "outputs": [
    {
     "data": {
      "text/plain": [
       "'{\"errorCode\":0,\"message\":\"操作成功\",\"result\":{\"businessCode\":0,\"message\":\"操作成功\",\"data\":{\"id\":1857802,\"preDrawCode\":\"10,04,06,02,03,01,05,07,09,08\",\"drawCount\":721,\"preDrawDate\":\"2021-08-21\",\"preDrawTime\":\"2021-08-21 15:00:33\",\"drawTime\":\"2021-08-21 15:01:48\",\"preDrawIssue\":32022945,\"drawIssue\":32022946,\"enable\":0,\"firstSingleCount\":354,\"firstDoubleCount\":367,\"firstBigCount\":380,\"firstSmallCount\":341,\"secondSingleCount\":358,\"secondDoubleCount\":363,\"secondBigCount\":387,\"secondSmallCount\":334,\"thirdSingleCount\":346,\"thirdDoubleCount\":375,\"thirdBigCount\":363,\"thirdSmallCount\":358,\"fourthSingleCount\":364,\"fourthDoubleCount\":357,\"fourthBigCount\":344,\"fourthSmallCount\":377,\"fifthSingleCount\":353,\"fifthDoubleCount\":368,\"fifthBigCount\":341,\"fifthSmallCount\":380,\"sixthSingleCount\":376,\"sixthDoubleCount\":345,\"sixthBigCount\":346,\"sixthSmallCount\":375,\"seventhSingleCount\":360,\"seventhDoubleCount\":361,\"seventhBigCount\":365,\"seventhSmallCount\":356,\"eighthSingleCount\":377,\"eighthDoubleCount\":344,\"eighthBigCount\":346,\"eighthSmallCount\":375,\"ninthSingleCount\":371,\"ninthDoubleCount\":350,\"ninthBigCount\":363,\"ninthSmallCount\":358,\"tenthSingleCount\":346,\"tenthDoubleCount\":375,\"tenthBigCount\":370,\"tenthSmallCount\":351,\"sumSingleCount\":398,\"sumDoubleCount\":323,\"sumBigCount\":341,\"sumSmallCount\":380,\"firstDragonCount\":375,\"firstTigerCount\":346,\"secondDragonCount\":385,\"secondTigerCount\":336,\"thirdDragonCount\":359,\"thirdTigerCount\":362,\"fourthDragonCount\":353,\"fourthTigerCount\":368,\"fifthDragonCount\":366,\"fifthTigerCount\":355}}}'"
      ]
     },
     "execution_count": 34,
     "metadata": {},
     "output_type": "execute_result"
    }
   ],
   "source": [
    "response.text"
   ]
  },
  {
   "cell_type": "code",
   "execution_count": null,
   "metadata": {},
   "outputs": [],
   "source": []
  },
  {
   "cell_type": "code",
   "execution_count": 35,
   "metadata": {},
   "outputs": [],
   "source": [
    "import json"
   ]
  },
  {
   "cell_type": "code",
   "execution_count": 36,
   "metadata": {},
   "outputs": [],
   "source": [
    "api_dic = json.loads(response.text)"
   ]
  },
  {
   "cell_type": "code",
   "execution_count": 37,
   "metadata": {
    "scrolled": true
   },
   "outputs": [
    {
     "data": {
      "text/plain": [
       "{'errorCode': 0,\n",
       " 'message': '操作成功',\n",
       " 'result': {'businessCode': 0,\n",
       "  'message': '操作成功',\n",
       "  'data': {'id': 1857802,\n",
       "   'preDrawCode': '10,04,06,02,03,01,05,07,09,08',\n",
       "   'drawCount': 721,\n",
       "   'preDrawDate': '2021-08-21',\n",
       "   'preDrawTime': '2021-08-21 15:00:33',\n",
       "   'drawTime': '2021-08-21 15:01:48',\n",
       "   'preDrawIssue': 32022945,\n",
       "   'drawIssue': 32022946,\n",
       "   'enable': 0,\n",
       "   'firstSingleCount': 354,\n",
       "   'firstDoubleCount': 367,\n",
       "   'firstBigCount': 380,\n",
       "   'firstSmallCount': 341,\n",
       "   'secondSingleCount': 358,\n",
       "   'secondDoubleCount': 363,\n",
       "   'secondBigCount': 387,\n",
       "   'secondSmallCount': 334,\n",
       "   'thirdSingleCount': 346,\n",
       "   'thirdDoubleCount': 375,\n",
       "   'thirdBigCount': 363,\n",
       "   'thirdSmallCount': 358,\n",
       "   'fourthSingleCount': 364,\n",
       "   'fourthDoubleCount': 357,\n",
       "   'fourthBigCount': 344,\n",
       "   'fourthSmallCount': 377,\n",
       "   'fifthSingleCount': 353,\n",
       "   'fifthDoubleCount': 368,\n",
       "   'fifthBigCount': 341,\n",
       "   'fifthSmallCount': 380,\n",
       "   'sixthSingleCount': 376,\n",
       "   'sixthDoubleCount': 345,\n",
       "   'sixthBigCount': 346,\n",
       "   'sixthSmallCount': 375,\n",
       "   'seventhSingleCount': 360,\n",
       "   'seventhDoubleCount': 361,\n",
       "   'seventhBigCount': 365,\n",
       "   'seventhSmallCount': 356,\n",
       "   'eighthSingleCount': 377,\n",
       "   'eighthDoubleCount': 344,\n",
       "   'eighthBigCount': 346,\n",
       "   'eighthSmallCount': 375,\n",
       "   'ninthSingleCount': 371,\n",
       "   'ninthDoubleCount': 350,\n",
       "   'ninthBigCount': 363,\n",
       "   'ninthSmallCount': 358,\n",
       "   'tenthSingleCount': 346,\n",
       "   'tenthDoubleCount': 375,\n",
       "   'tenthBigCount': 370,\n",
       "   'tenthSmallCount': 351,\n",
       "   'sumSingleCount': 398,\n",
       "   'sumDoubleCount': 323,\n",
       "   'sumBigCount': 341,\n",
       "   'sumSmallCount': 380,\n",
       "   'firstDragonCount': 375,\n",
       "   'firstTigerCount': 346,\n",
       "   'secondDragonCount': 385,\n",
       "   'secondTigerCount': 336,\n",
       "   'thirdDragonCount': 359,\n",
       "   'thirdTigerCount': 362,\n",
       "   'fourthDragonCount': 353,\n",
       "   'fourthTigerCount': 368,\n",
       "   'fifthDragonCount': 366,\n",
       "   'fifthTigerCount': 355}}}"
      ]
     },
     "execution_count": 37,
     "metadata": {},
     "output_type": "execute_result"
    }
   ],
   "source": [
    "api_dic"
   ]
  },
  {
   "cell_type": "code",
   "execution_count": 38,
   "metadata": {},
   "outputs": [],
   "source": [
    "prize_str = api_dic['result']['data']['preDrawCode']"
   ]
  },
  {
   "cell_type": "code",
   "execution_count": 39,
   "metadata": {},
   "outputs": [
    {
     "data": {
      "text/plain": [
       "'10,04,06,02,03,01,05,07,09,08'"
      ]
     },
     "execution_count": 39,
     "metadata": {},
     "output_type": "execute_result"
    }
   ],
   "source": [
    "prize_str"
   ]
  },
  {
   "cell_type": "code",
   "execution_count": 42,
   "metadata": {},
   "outputs": [],
   "source": [
    "prize_list = prize_str.split(',')"
   ]
  },
  {
   "cell_type": "code",
   "execution_count": 43,
   "metadata": {},
   "outputs": [
    {
     "data": {
      "text/plain": [
       "['10', '04', '06', '02', '03', '01', '05', '07', '09', '08']"
      ]
     },
     "execution_count": 43,
     "metadata": {},
     "output_type": "execute_result"
    }
   ],
   "source": [
    "prize_list"
   ]
  },
  {
   "cell_type": "code",
   "execution_count": null,
   "metadata": {},
   "outputs": [],
   "source": []
  },
  {
   "cell_type": "code",
   "execution_count": 44,
   "metadata": {},
   "outputs": [],
   "source": [
    "from datetime import datetime"
   ]
  },
  {
   "cell_type": "code",
   "execution_count": 47,
   "metadata": {},
   "outputs": [],
   "source": [
    "datetime_str = api_dic['result']['data']['drawTime']"
   ]
  },
  {
   "cell_type": "code",
   "execution_count": 48,
   "metadata": {},
   "outputs": [
    {
     "data": {
      "text/plain": [
       "'2021-08-21 15:01:48'"
      ]
     },
     "execution_count": 48,
     "metadata": {},
     "output_type": "execute_result"
    }
   ],
   "source": [
    "datetime_str"
   ]
  },
  {
   "cell_type": "code",
   "execution_count": 49,
   "metadata": {},
   "outputs": [
    {
     "name": "stdout",
     "output_type": "stream",
     "text": [
      "The type of the date is now <class 'datetime.datetime'>\n",
      "The date is 2021-08-21 15:01:48\n"
     ]
    }
   ],
   "source": [
    "datetime_obj = datetime.strptime(datetime_str, '%Y-%m-%d %H:%M:%S')\n",
    "\n",
    "\n",
    "print (\"The type of the date is now\",  type(datetime_obj))\n",
    "print (\"The date is\", datetime_obj)"
   ]
  },
  {
   "cell_type": "code",
   "execution_count": 50,
   "metadata": {},
   "outputs": [
    {
     "data": {
      "text/plain": [
       "1629529308.0"
      ]
     },
     "execution_count": 50,
     "metadata": {},
     "output_type": "execute_result"
    }
   ],
   "source": [
    "datetime_obj.timestamp()"
   ]
  },
  {
   "cell_type": "code",
   "execution_count": 51,
   "metadata": {},
   "outputs": [],
   "source": [
    "datetime_now = datetime.now()"
   ]
  },
  {
   "cell_type": "code",
   "execution_count": 52,
   "metadata": {},
   "outputs": [
    {
     "data": {
      "text/plain": [
       "1629529504.16506"
      ]
     },
     "execution_count": 52,
     "metadata": {},
     "output_type": "execute_result"
    }
   ],
   "source": [
    "datetime_now.timestamp()"
   ]
  },
  {
   "cell_type": "code",
   "execution_count": 146,
   "metadata": {},
   "outputs": [
    {
     "data": {
      "text/plain": [
       "39"
      ]
     },
     "execution_count": 146,
     "metadata": {},
     "output_type": "execute_result"
    }
   ],
   "source": [
    "datetime_obj.minute"
   ]
  },
  {
   "cell_type": "code",
   "execution_count": 147,
   "metadata": {},
   "outputs": [
    {
     "data": {
      "text/plain": [
       "18"
      ]
     },
     "execution_count": 147,
     "metadata": {},
     "output_type": "execute_result"
    }
   ],
   "source": [
    "datetime_obj.second"
   ]
  },
  {
   "cell_type": "code",
   "execution_count": 148,
   "metadata": {},
   "outputs": [
    {
     "data": {
      "text/plain": [
       "<function datetime.now(tz=None)>"
      ]
     },
     "execution_count": 148,
     "metadata": {},
     "output_type": "execute_result"
    }
   ],
   "source": [
    "datetime.now"
   ]
  },
  {
   "cell_type": "code",
   "execution_count": 208,
   "metadata": {},
   "outputs": [
    {
     "data": {
      "text/plain": [
       "datetime.datetime(2021, 8, 13, 12, 3, 34, 275774)"
      ]
     },
     "execution_count": 208,
     "metadata": {},
     "output_type": "execute_result"
    }
   ],
   "source": [
    "datetime.utcnow()"
   ]
  },
  {
   "cell_type": "code",
   "execution_count": 158,
   "metadata": {},
   "outputs": [
    {
     "name": "stdout",
     "output_type": "stream",
     "text": [
      "Help on built-in function now:\n",
      "\n",
      "now(tz=None) method of builtins.type instance\n",
      "    Returns new datetime object representing current time local to tz.\n",
      "    \n",
      "      tz\n",
      "        Timezone object.\n",
      "    \n",
      "    If no tz is specified, uses local timezone.\n",
      "\n"
     ]
    }
   ],
   "source": [
    "help(datetime.now)"
   ]
  },
  {
   "cell_type": "code",
   "execution_count": 2,
   "metadata": {},
   "outputs": [],
   "source": [
    "datetime_now = datetime.now()"
   ]
  },
  {
   "cell_type": "code",
   "execution_count": 3,
   "metadata": {},
   "outputs": [
    {
     "data": {
      "text/plain": [
       "datetime.datetime(2021, 8, 20, 17, 10, 39, 483012)"
      ]
     },
     "execution_count": 3,
     "metadata": {},
     "output_type": "execute_result"
    }
   ],
   "source": [
    "datetime_now"
   ]
  },
  {
   "cell_type": "code",
   "execution_count": 151,
   "metadata": {},
   "outputs": [],
   "source": [
    "minute = datetime_now.minute"
   ]
  },
  {
   "cell_type": "code",
   "execution_count": 153,
   "metadata": {},
   "outputs": [
    {
     "data": {
      "text/plain": [
       "38"
      ]
     },
     "execution_count": 153,
     "metadata": {},
     "output_type": "execute_result"
    }
   ],
   "source": [
    "minute"
   ]
  },
  {
   "cell_type": "code",
   "execution_count": 152,
   "metadata": {},
   "outputs": [],
   "source": [
    "second = datetime_now.second"
   ]
  },
  {
   "cell_type": "code",
   "execution_count": 154,
   "metadata": {},
   "outputs": [
    {
     "data": {
      "text/plain": [
       "52"
      ]
     },
     "execution_count": 154,
     "metadata": {},
     "output_type": "execute_result"
    }
   ],
   "source": [
    "second"
   ]
  },
  {
   "cell_type": "code",
   "execution_count": 215,
   "metadata": {},
   "outputs": [
    {
     "data": {
      "text/plain": [
       "1628856446.114406"
      ]
     },
     "execution_count": 215,
     "metadata": {},
     "output_type": "execute_result"
    }
   ],
   "source": [
    "datetime_now.timestamp()"
   ]
  },
  {
   "cell_type": "code",
   "execution_count": 163,
   "metadata": {},
   "outputs": [
    {
     "data": {
      "text/plain": [
       "1628847558.0"
      ]
     },
     "execution_count": 163,
     "metadata": {},
     "output_type": "execute_result"
    }
   ],
   "source": [
    "# next prize timestamp\n",
    "datetime_obj.timestamp()"
   ]
  },
  {
   "cell_type": "code",
   "execution_count": 232,
   "metadata": {},
   "outputs": [
    {
     "data": {
      "text/plain": [
       "datetime.datetime(2021, 8, 13, 20, 11, 51, 99269)"
      ]
     },
     "execution_count": 232,
     "metadata": {},
     "output_type": "execute_result"
    }
   ],
   "source": [
    "datetime.now()"
   ]
  },
  {
   "cell_type": "code",
   "execution_count": 14,
   "metadata": {},
   "outputs": [],
   "source": [
    "datetime_now = datetime.now()\n",
    "hour_now = datetime_now.hour\n",
    "minute_now = datetime_now.minute\n",
    "mix_hours = hour_now + minute_now/60"
   ]
  },
  {
   "cell_type": "code",
   "execution_count": 15,
   "metadata": {},
   "outputs": [
    {
     "data": {
      "text/plain": [
       "17.416666666666668"
      ]
     },
     "execution_count": 15,
     "metadata": {},
     "output_type": "execute_result"
    }
   ],
   "source": [
    "mix_hours"
   ]
  },
  {
   "cell_type": "code",
   "execution_count": 16,
   "metadata": {},
   "outputs": [
    {
     "data": {
      "text/plain": [
       "25"
      ]
     },
     "execution_count": 16,
     "metadata": {},
     "output_type": "execute_result"
    }
   ],
   "source": [
    "minute_now"
   ]
  },
  {
   "cell_type": "code",
   "execution_count": 19,
   "metadata": {},
   "outputs": [
    {
     "data": {
      "text/plain": [
       "True"
      ]
     },
     "execution_count": 19,
     "metadata": {},
     "output_type": "execute_result"
    }
   ],
   "source": [
    "4 + 1/60 > 4"
   ]
  },
  {
   "cell_type": "code",
   "execution_count": null,
   "metadata": {},
   "outputs": [],
   "source": []
  }
 ],
 "metadata": {
  "kernelspec": {
   "display_name": "Python 3",
   "language": "python",
   "name": "python3"
  },
  "language_info": {
   "codemirror_mode": {
    "name": "ipython",
    "version": 3
   },
   "file_extension": ".py",
   "mimetype": "text/x-python",
   "name": "python",
   "nbconvert_exporter": "python",
   "pygments_lexer": "ipython3",
   "version": "3.7.8"
  }
 },
 "nbformat": 4,
 "nbformat_minor": 4
}
