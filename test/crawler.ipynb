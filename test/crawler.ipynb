{
 "cells": [
  {
   "cell_type": "code",
   "execution_count": 5,
   "metadata": {},
   "outputs": [],
   "source": [
    "import requests\n",
    "from bs4 import BeautifulSoup"
   ]
  },
  {
   "cell_type": "code",
   "execution_count": 41,
   "metadata": {},
   "outputs": [],
   "source": [
    "response = requests.get(\"http://www.gzyfxzl.com/pk10kai_history/\")"
   ]
  },
  {
   "cell_type": "code",
   "execution_count": 42,
   "metadata": {
    "scrolled": true
   },
   "outputs": [
    {
     "data": {
      "text/plain": [
       "<Response [200]>"
      ]
     },
     "execution_count": 42,
     "metadata": {},
     "output_type": "execute_result"
    }
   ],
   "source": [
    "response"
   ]
  },
  {
   "cell_type": "code",
   "execution_count": 43,
   "metadata": {},
   "outputs": [],
   "source": [
    "soup = BeautifulSoup(response.text, \"lxml\")"
   ]
  },
  {
   "cell_type": "code",
   "execution_count": 34,
   "metadata": {},
   "outputs": [],
   "source": [
    "# get "
   ]
  },
  {
   "cell_type": "code",
   "execution_count": 44,
   "metadata": {},
   "outputs": [],
   "source": [
    "time_block = soup.find(class_='cuttime')"
   ]
  },
  {
   "cell_type": "code",
   "execution_count": 45,
   "metadata": {},
   "outputs": [
    {
     "data": {
      "text/plain": [
       "<div class=\"cuttime\">\n",
       "<span class=\"bgtime hour\">00</span>\n",
       "<span class=\"hourtxt\">æ¶</span>\n",
       "<span class=\"bgtime minute\">00</span>\n",
       "<span>å</span>\n",
       "<span class=\"bgtime second\">00</span>\n",
       "<span>ç§</span>\n",
       "</div>"
      ]
     },
     "execution_count": 45,
     "metadata": {},
     "output_type": "execute_result"
    }
   ],
   "source": [
    "# time is fake\n",
    "time_block"
   ]
  },
  {
   "cell_type": "code",
   "execution_count": 14,
   "metadata": {},
   "outputs": [
    {
     "data": {
      "text/plain": [
       "<span class=\"bgtime minute\">00</span>"
      ]
     },
     "execution_count": 14,
     "metadata": {},
     "output_type": "execute_result"
    }
   ],
   "source": [
    "time_block.find(class_='bgtime minute')"
   ]
  },
  {
   "cell_type": "code",
   "execution_count": 16,
   "metadata": {},
   "outputs": [],
   "source": [
    "minute = time_block.find(class_='bgtime minute').text"
   ]
  },
  {
   "cell_type": "code",
   "execution_count": 17,
   "metadata": {},
   "outputs": [
    {
     "data": {
      "text/plain": [
       "'00'"
      ]
     },
     "execution_count": 17,
     "metadata": {},
     "output_type": "execute_result"
    }
   ],
   "source": [
    "minute"
   ]
  },
  {
   "cell_type": "code",
   "execution_count": 18,
   "metadata": {},
   "outputs": [],
   "source": [
    "second = time_block.find(class_='bgtime second').text"
   ]
  },
  {
   "cell_type": "code",
   "execution_count": null,
   "metadata": {},
   "outputs": [],
   "source": []
  },
  {
   "cell_type": "code",
   "execution_count": 19,
   "metadata": {},
   "outputs": [],
   "source": [
    "# get prize number"
   ]
  },
  {
   "cell_type": "code",
   "execution_count": 25,
   "metadata": {},
   "outputs": [],
   "source": [
    "number_block = soup.find(class_='numberbox')"
   ]
  },
  {
   "cell_type": "code",
   "execution_count": 26,
   "metadata": {
    "scrolled": true
   },
   "outputs": [
    {
     "data": {
      "text/plain": [
       "<ul class=\"numberbox\" id=\"jnumber\">\n",
       "<li class=\"numsm02\"></li>\n",
       "<li class=\"numsm01\"></li>\n",
       "<li class=\"numsm10\"></li>\n",
       "<li class=\"numsm04\"></li>\n",
       "<li class=\"numsm03\"></li>\n",
       "<li class=\"numsm06\"></li>\n",
       "<li class=\"numsm07\"></li>\n",
       "<li class=\"numsm08\"></li>\n",
       "<li class=\"numsm05\"></li>\n",
       "<li class=\"numsm09 li_after\"></li>\n",
       "</ul>"
      ]
     },
     "execution_count": 26,
     "metadata": {},
     "output_type": "execute_result"
    }
   ],
   "source": [
    "# it's fake html\n",
    "number_block "
   ]
  },
  {
   "cell_type": "code",
   "execution_count": null,
   "metadata": {},
   "outputs": [],
   "source": []
  },
  {
   "cell_type": "code",
   "execution_count": 49,
   "metadata": {},
   "outputs": [],
   "source": [
    "response = requests.get(\"https://api.apiose122.com/pks/getPksDoubleCount.do?date=&lotCode=10037\")"
   ]
  },
  {
   "cell_type": "code",
   "execution_count": 50,
   "metadata": {},
   "outputs": [
    {
     "data": {
      "text/plain": [
       "<Response [200]>"
      ]
     },
     "execution_count": 50,
     "metadata": {},
     "output_type": "execute_result"
    }
   ],
   "source": [
    "response"
   ]
  },
  {
   "cell_type": "code",
   "execution_count": 51,
   "metadata": {
    "scrolled": true
   },
   "outputs": [
    {
     "data": {
      "text/plain": [
       "'{\"errorCode\":0,\"message\":\"操作成功\",\"result\":{\"businessCode\":0,\"message\":\"操作成功\",\"data\":{\"id\":1848618,\"preDrawCode\":\"07,02,05,09,06,01,03,04,10,08\",\"drawCount\":753,\"preDrawDate\":\"2021-08-13\",\"preDrawTime\":\"2021-08-13 15:40:33\",\"drawTime\":\"2021-08-13 15:41:48\",\"preDrawIssue\":32013761,\"drawIssue\":32013762,\"enable\":0,\"firstSingleCount\":364,\"firstDoubleCount\":389,\"firstBigCount\":362,\"firstSmallCount\":391,\"secondSingleCount\":356,\"secondDoubleCount\":397,\"secondBigCount\":390,\"secondSmallCount\":363,\"thirdSingleCount\":375,\"thirdDoubleCount\":378,\"thirdBigCount\":372,\"thirdSmallCount\":381,\"fourthSingleCount\":385,\"fourthDoubleCount\":368,\"fourthBigCount\":366,\"fourthSmallCount\":387,\"fifthSingleCount\":351,\"fifthDoubleCount\":402,\"fifthBigCount\":413,\"fifthSmallCount\":340,\"sixthSingleCount\":387,\"sixthDoubleCount\":366,\"sixthBigCount\":382,\"sixthSmallCount\":371,\"seventhSingleCount\":372,\"seventhDoubleCount\":381,\"seventhBigCount\":377,\"seventhSmallCount\":376,\"eighthSingleCount\":380,\"eighthDoubleCount\":373,\"eighthBigCount\":356,\"eighthSmallCount\":397,\"ninthSingleCount\":395,\"ninthDoubleCount\":358,\"ninthBigCount\":373,\"ninthSmallCount\":380,\"tenthSingleCount\":400,\"tenthDoubleCount\":353,\"tenthBigCount\":374,\"tenthSmallCount\":379,\"sumSingleCount\":404,\"sumDoubleCount\":349,\"sumBigCount\":310,\"sumSmallCount\":443,\"firstDragonCount\":363,\"firstTigerCount\":390,\"secondDragonCount\":381,\"secondTigerCount\":372,\"thirdDragonCount\":385,\"thirdTigerCount\":368,\"fourthDragonCount\":368,\"fourthTigerCount\":385,\"fifthDragonCount\":394,\"fifthTigerCount\":359}}}'"
      ]
     },
     "execution_count": 51,
     "metadata": {},
     "output_type": "execute_result"
    }
   ],
   "source": [
    "response.text"
   ]
  },
  {
   "cell_type": "code",
   "execution_count": null,
   "metadata": {},
   "outputs": [],
   "source": []
  },
  {
   "cell_type": "code",
   "execution_count": 52,
   "metadata": {},
   "outputs": [],
   "source": [
    "import json"
   ]
  },
  {
   "cell_type": "code",
   "execution_count": 54,
   "metadata": {},
   "outputs": [],
   "source": [
    "api_dic = json.loads(response.text)"
   ]
  },
  {
   "cell_type": "code",
   "execution_count": 55,
   "metadata": {
    "scrolled": true
   },
   "outputs": [
    {
     "data": {
      "text/plain": [
       "{'errorCode': 0,\n",
       " 'message': '操作成功',\n",
       " 'result': {'businessCode': 0,\n",
       "  'message': '操作成功',\n",
       "  'data': {'id': 1848618,\n",
       "   'preDrawCode': '07,02,05,09,06,01,03,04,10,08',\n",
       "   'drawCount': 753,\n",
       "   'preDrawDate': '2021-08-13',\n",
       "   'preDrawTime': '2021-08-13 15:40:33',\n",
       "   'drawTime': '2021-08-13 15:41:48',\n",
       "   'preDrawIssue': 32013761,\n",
       "   'drawIssue': 32013762,\n",
       "   'enable': 0,\n",
       "   'firstSingleCount': 364,\n",
       "   'firstDoubleCount': 389,\n",
       "   'firstBigCount': 362,\n",
       "   'firstSmallCount': 391,\n",
       "   'secondSingleCount': 356,\n",
       "   'secondDoubleCount': 397,\n",
       "   'secondBigCount': 390,\n",
       "   'secondSmallCount': 363,\n",
       "   'thirdSingleCount': 375,\n",
       "   'thirdDoubleCount': 378,\n",
       "   'thirdBigCount': 372,\n",
       "   'thirdSmallCount': 381,\n",
       "   'fourthSingleCount': 385,\n",
       "   'fourthDoubleCount': 368,\n",
       "   'fourthBigCount': 366,\n",
       "   'fourthSmallCount': 387,\n",
       "   'fifthSingleCount': 351,\n",
       "   'fifthDoubleCount': 402,\n",
       "   'fifthBigCount': 413,\n",
       "   'fifthSmallCount': 340,\n",
       "   'sixthSingleCount': 387,\n",
       "   'sixthDoubleCount': 366,\n",
       "   'sixthBigCount': 382,\n",
       "   'sixthSmallCount': 371,\n",
       "   'seventhSingleCount': 372,\n",
       "   'seventhDoubleCount': 381,\n",
       "   'seventhBigCount': 377,\n",
       "   'seventhSmallCount': 376,\n",
       "   'eighthSingleCount': 380,\n",
       "   'eighthDoubleCount': 373,\n",
       "   'eighthBigCount': 356,\n",
       "   'eighthSmallCount': 397,\n",
       "   'ninthSingleCount': 395,\n",
       "   'ninthDoubleCount': 358,\n",
       "   'ninthBigCount': 373,\n",
       "   'ninthSmallCount': 380,\n",
       "   'tenthSingleCount': 400,\n",
       "   'tenthDoubleCount': 353,\n",
       "   'tenthBigCount': 374,\n",
       "   'tenthSmallCount': 379,\n",
       "   'sumSingleCount': 404,\n",
       "   'sumDoubleCount': 349,\n",
       "   'sumBigCount': 310,\n",
       "   'sumSmallCount': 443,\n",
       "   'firstDragonCount': 363,\n",
       "   'firstTigerCount': 390,\n",
       "   'secondDragonCount': 381,\n",
       "   'secondTigerCount': 372,\n",
       "   'thirdDragonCount': 385,\n",
       "   'thirdTigerCount': 368,\n",
       "   'fourthDragonCount': 368,\n",
       "   'fourthTigerCount': 385,\n",
       "   'fifthDragonCount': 394,\n",
       "   'fifthTigerCount': 359}}}"
      ]
     },
     "execution_count": 55,
     "metadata": {},
     "output_type": "execute_result"
    }
   ],
   "source": [
    "api_dic"
   ]
  },
  {
   "cell_type": "code",
   "execution_count": 63,
   "metadata": {},
   "outputs": [],
   "source": [
    "prize_string = api_dic['result']['data']['preDrawCode']"
   ]
  },
  {
   "cell_type": "code",
   "execution_count": 64,
   "metadata": {},
   "outputs": [
    {
     "data": {
      "text/plain": [
       "'07,02,05,09,06,01,03,04,10,08'"
      ]
     },
     "execution_count": 64,
     "metadata": {},
     "output_type": "execute_result"
    }
   ],
   "source": [
    "prize_string"
   ]
  },
  {
   "cell_type": "code",
   "execution_count": 65,
   "metadata": {},
   "outputs": [],
   "source": [
    "prize_list = number_string.split(',')"
   ]
  },
  {
   "cell_type": "code",
   "execution_count": 66,
   "metadata": {},
   "outputs": [
    {
     "data": {
      "text/plain": [
       "['07', '02', '05', '09', '06', '01', '03', '04', '10', '08']"
      ]
     },
     "execution_count": 66,
     "metadata": {},
     "output_type": "execute_result"
    }
   ],
   "source": [
    "prize_list"
   ]
  },
  {
   "cell_type": "code",
   "execution_count": null,
   "metadata": {},
   "outputs": [],
   "source": []
  },
  {
   "cell_type": "code",
   "execution_count": null,
   "metadata": {},
   "outputs": [],
   "source": []
  }
 ],
 "metadata": {
  "kernelspec": {
   "display_name": "Python 3",
   "language": "python",
   "name": "python3"
  },
  "language_info": {
   "codemirror_mode": {
    "name": "ipython",
    "version": 3
   },
   "file_extension": ".py",
   "mimetype": "text/x-python",
   "name": "python",
   "nbconvert_exporter": "python",
   "pygments_lexer": "ipython3",
   "version": "3.7.8"
  }
 },
 "nbformat": 4,
 "nbformat_minor": 4
}
