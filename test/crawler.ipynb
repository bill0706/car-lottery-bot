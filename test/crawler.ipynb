{
 "cells": [
  {
   "cell_type": "code",
   "execution_count": 5,
   "metadata": {},
   "outputs": [],
   "source": [
    "import requests\n",
    "from bs4 import BeautifulSoup"
   ]
  },
  {
   "cell_type": "code",
   "execution_count": 41,
   "metadata": {},
   "outputs": [],
   "source": [
    "response = requests.get(\"http://www.gzyfxzl.com/pk10kai_history/\")"
   ]
  },
  {
   "cell_type": "code",
   "execution_count": 42,
   "metadata": {
    "scrolled": true
   },
   "outputs": [
    {
     "data": {
      "text/plain": [
       "<Response [200]>"
      ]
     },
     "execution_count": 42,
     "metadata": {},
     "output_type": "execute_result"
    }
   ],
   "source": [
    "response"
   ]
  },
  {
   "cell_type": "code",
   "execution_count": 43,
   "metadata": {},
   "outputs": [],
   "source": [
    "soup = BeautifulSoup(response.text, \"lxml\")"
   ]
  },
  {
   "cell_type": "code",
   "execution_count": 34,
   "metadata": {},
   "outputs": [],
   "source": [
    "# get "
   ]
  },
  {
   "cell_type": "code",
   "execution_count": 44,
   "metadata": {},
   "outputs": [],
   "source": [
    "time_block = soup.find(class_='cuttime')"
   ]
  },
  {
   "cell_type": "code",
   "execution_count": 45,
   "metadata": {},
   "outputs": [
    {
     "data": {
      "text/plain": [
       "<div class=\"cuttime\">\n",
       "<span class=\"bgtime hour\">00</span>\n",
       "<span class=\"hourtxt\">æ¶</span>\n",
       "<span class=\"bgtime minute\">00</span>\n",
       "<span>å</span>\n",
       "<span class=\"bgtime second\">00</span>\n",
       "<span>ç§</span>\n",
       "</div>"
      ]
     },
     "execution_count": 45,
     "metadata": {},
     "output_type": "execute_result"
    }
   ],
   "source": [
    "# time is fake\n",
    "time_block"
   ]
  },
  {
   "cell_type": "code",
   "execution_count": 14,
   "metadata": {},
   "outputs": [
    {
     "data": {
      "text/plain": [
       "<span class=\"bgtime minute\">00</span>"
      ]
     },
     "execution_count": 14,
     "metadata": {},
     "output_type": "execute_result"
    }
   ],
   "source": [
    "time_block.find(class_='bgtime minute')"
   ]
  },
  {
   "cell_type": "code",
   "execution_count": 16,
   "metadata": {},
   "outputs": [],
   "source": [
    "minute = time_block.find(class_='bgtime minute').text"
   ]
  },
  {
   "cell_type": "code",
   "execution_count": 17,
   "metadata": {},
   "outputs": [
    {
     "data": {
      "text/plain": [
       "'00'"
      ]
     },
     "execution_count": 17,
     "metadata": {},
     "output_type": "execute_result"
    }
   ],
   "source": [
    "minute"
   ]
  },
  {
   "cell_type": "code",
   "execution_count": 18,
   "metadata": {},
   "outputs": [],
   "source": [
    "second = time_block.find(class_='bgtime second').text"
   ]
  },
  {
   "cell_type": "code",
   "execution_count": null,
   "metadata": {},
   "outputs": [],
   "source": []
  },
  {
   "cell_type": "code",
   "execution_count": 19,
   "metadata": {},
   "outputs": [],
   "source": [
    "# get prize number"
   ]
  },
  {
   "cell_type": "code",
   "execution_count": 25,
   "metadata": {},
   "outputs": [],
   "source": [
    "number_block = soup.find(class_='numberbox')"
   ]
  },
  {
   "cell_type": "code",
   "execution_count": 26,
   "metadata": {
    "scrolled": true
   },
   "outputs": [
    {
     "data": {
      "text/plain": [
       "<ul class=\"numberbox\" id=\"jnumber\">\n",
       "<li class=\"numsm02\"></li>\n",
       "<li class=\"numsm01\"></li>\n",
       "<li class=\"numsm10\"></li>\n",
       "<li class=\"numsm04\"></li>\n",
       "<li class=\"numsm03\"></li>\n",
       "<li class=\"numsm06\"></li>\n",
       "<li class=\"numsm07\"></li>\n",
       "<li class=\"numsm08\"></li>\n",
       "<li class=\"numsm05\"></li>\n",
       "<li class=\"numsm09 li_after\"></li>\n",
       "</ul>"
      ]
     },
     "execution_count": 26,
     "metadata": {},
     "output_type": "execute_result"
    }
   ],
   "source": [
    "# it's fake html\n",
    "number_block "
   ]
  },
  {
   "cell_type": "code",
   "execution_count": null,
   "metadata": {},
   "outputs": [],
   "source": []
  },
  {
   "cell_type": "code",
   "execution_count": 200,
   "metadata": {},
   "outputs": [],
   "source": [
    "headers = {\n",
    "    'Accept': 'text/html,application/xhtml+xml,application/xml;q=0.9,image/avif,image/webp,image/apng,*/*;q=0.8,application/signed-exchange;v=b3;q=0.9',\n",
    "    'Accept-Encoding': 'gzip, deflate, br',\n",
    "    'Accept-Language': 'en-US,en;q=0.9,zh-TW;q=0.8,zh;q=0.7',\n",
    "    'Cache-Control': 'max-age=0',\n",
    "    'Connection': 'keep-alive',\n",
    "    'Host': 'api.apiose122.com',\n",
    "    'sec-ch-ua': '\"Chromium\";v=\"92\", \" Not A;Brand\";v=\"99\", \"Google Chrome\";v=\"92\"',\n",
    "    'sec-ch-ua-mobile': '?0',\n",
    "    'Sec-Fetch-Dest': 'document',\n",
    "    'Sec-Fetch-Mode': 'navigate',\n",
    "    'Sec-Fetch-Site': 'none',\n",
    "    'Sec-Fetch-User': '?1',\n",
    "    'Upgrade-Insecure-Requests': '1',\n",
    "    'User-Agent': 'Mozilla/5.0 (Windows NT 10.0; Win64; x64) AppleWebKit/537.36 (KHTML, like Gecko) Chrome/92.0.4515.131 Safari/537.36'\n",
    "}"
   ]
  },
  {
   "cell_type": "code",
   "execution_count": 201,
   "metadata": {},
   "outputs": [],
   "source": [
    "response = requests.get(\"https://api.apiose122.com/pks/getPksDoubleCount.do?date=&lotCode=10037\", headers=headers)"
   ]
  },
  {
   "cell_type": "code",
   "execution_count": 202,
   "metadata": {},
   "outputs": [
    {
     "data": {
      "text/plain": [
       "<Response [200]>"
      ]
     },
     "execution_count": 202,
     "metadata": {},
     "output_type": "execute_result"
    }
   ],
   "source": [
    "response"
   ]
  },
  {
   "cell_type": "code",
   "execution_count": 203,
   "metadata": {
    "scrolled": true
   },
   "outputs": [
    {
     "data": {
      "text/plain": [
       "'{\"errorCode\":0,\"message\":\"操作成功\",\"result\":{\"businessCode\":0,\"message\":\"操作成功\",\"data\":{\"id\":1848765,\"preDrawCode\":\"07,02,04,01,05,06,08,03,10,09\",\"drawCount\":900,\"preDrawDate\":\"2021-08-13\",\"preDrawTime\":\"2021-08-13 18:44:18\",\"drawTime\":\"2021-08-13 18:45:33\",\"preDrawIssue\":32013908,\"drawIssue\":32013909,\"enable\":0,\"firstSingleCount\":440,\"firstDoubleCount\":460,\"firstBigCount\":433,\"firstSmallCount\":467,\"secondSingleCount\":437,\"secondDoubleCount\":463,\"secondBigCount\":464,\"secondSmallCount\":436,\"thirdSingleCount\":446,\"thirdDoubleCount\":454,\"thirdBigCount\":454,\"thirdSmallCount\":446,\"fourthSingleCount\":463,\"fourthDoubleCount\":437,\"fourthBigCount\":429,\"fourthSmallCount\":471,\"fifthSingleCount\":417,\"fifthDoubleCount\":483,\"fifthBigCount\":490,\"fifthSmallCount\":410,\"sixthSingleCount\":461,\"sixthDoubleCount\":439,\"sixthBigCount\":459,\"sixthSmallCount\":441,\"seventhSingleCount\":440,\"seventhDoubleCount\":460,\"seventhBigCount\":457,\"seventhSmallCount\":443,\"eighthSingleCount\":455,\"eighthDoubleCount\":445,\"eighthBigCount\":426,\"eighthSmallCount\":474,\"ninthSingleCount\":471,\"ninthDoubleCount\":429,\"ninthBigCount\":450,\"ninthSmallCount\":450,\"tenthSingleCount\":470,\"tenthDoubleCount\":430,\"tenthBigCount\":438,\"tenthSmallCount\":462,\"sumSingleCount\":485,\"sumDoubleCount\":415,\"sumBigCount\":377,\"sumSmallCount\":523,\"firstDragonCount\":446,\"firstTigerCount\":454,\"secondDragonCount\":455,\"secondTigerCount\":445,\"thirdDragonCount\":463,\"thirdTigerCount\":437,\"fourthDragonCount\":427,\"fourthTigerCount\":473,\"fifthDragonCount\":473,\"fifthTigerCount\":427}}}'"
      ]
     },
     "execution_count": 203,
     "metadata": {},
     "output_type": "execute_result"
    }
   ],
   "source": [
    "response.text"
   ]
  },
  {
   "cell_type": "code",
   "execution_count": null,
   "metadata": {},
   "outputs": [],
   "source": []
  },
  {
   "cell_type": "code",
   "execution_count": 135,
   "metadata": {},
   "outputs": [],
   "source": [
    "import json"
   ]
  },
  {
   "cell_type": "code",
   "execution_count": 136,
   "metadata": {},
   "outputs": [],
   "source": [
    "api_dic = json.loads(response.text)"
   ]
  },
  {
   "cell_type": "code",
   "execution_count": 137,
   "metadata": {
    "scrolled": true
   },
   "outputs": [
    {
     "data": {
      "text/plain": [
       "{'errorCode': 0,\n",
       " 'message': '操作成功',\n",
       " 'result': {'businessCode': 0,\n",
       "  'message': '操作成功',\n",
       "  'data': {'id': 1848712,\n",
       "   'preDrawCode': '09,01,05,03,04,08,02,06,07,10',\n",
       "   'drawCount': 847,\n",
       "   'preDrawDate': '2021-08-13',\n",
       "   'preDrawTime': '2021-08-13 17:38:03',\n",
       "   'drawTime': '2021-08-13 17:39:18',\n",
       "   'preDrawIssue': 32013855,\n",
       "   'drawIssue': 32013856,\n",
       "   'enable': 0,\n",
       "   'firstSingleCount': 419,\n",
       "   'firstDoubleCount': 428,\n",
       "   'firstBigCount': 405,\n",
       "   'firstSmallCount': 442,\n",
       "   'secondSingleCount': 412,\n",
       "   'secondDoubleCount': 435,\n",
       "   'secondBigCount': 435,\n",
       "   'secondSmallCount': 412,\n",
       "   'thirdSingleCount': 424,\n",
       "   'thirdDoubleCount': 423,\n",
       "   'thirdBigCount': 425,\n",
       "   'thirdSmallCount': 422,\n",
       "   'fourthSingleCount': 429,\n",
       "   'fourthDoubleCount': 418,\n",
       "   'fourthBigCount': 403,\n",
       "   'fourthSmallCount': 444,\n",
       "   'fifthSingleCount': 391,\n",
       "   'fifthDoubleCount': 456,\n",
       "   'fifthBigCount': 463,\n",
       "   'fifthSmallCount': 384,\n",
       "   'sixthSingleCount': 436,\n",
       "   'sixthDoubleCount': 411,\n",
       "   'sixthBigCount': 431,\n",
       "   'sixthSmallCount': 416,\n",
       "   'seventhSingleCount': 414,\n",
       "   'seventhDoubleCount': 433,\n",
       "   'seventhBigCount': 433,\n",
       "   'seventhSmallCount': 414,\n",
       "   'eighthSingleCount': 426,\n",
       "   'eighthDoubleCount': 421,\n",
       "   'eighthBigCount': 408,\n",
       "   'eighthSmallCount': 439,\n",
       "   'ninthSingleCount': 441,\n",
       "   'ninthDoubleCount': 406,\n",
       "   'ninthBigCount': 422,\n",
       "   'ninthSmallCount': 425,\n",
       "   'tenthSingleCount': 443,\n",
       "   'tenthDoubleCount': 404,\n",
       "   'tenthBigCount': 410,\n",
       "   'tenthSmallCount': 437,\n",
       "   'sumSingleCount': 451,\n",
       "   'sumDoubleCount': 396,\n",
       "   'sumBigCount': 350,\n",
       "   'sumSmallCount': 497,\n",
       "   'firstDragonCount': 418,\n",
       "   'firstTigerCount': 429,\n",
       "   'secondDragonCount': 425,\n",
       "   'secondTigerCount': 422,\n",
       "   'thirdDragonCount': 431,\n",
       "   'thirdTigerCount': 416,\n",
       "   'fourthDragonCount': 405,\n",
       "   'fourthTigerCount': 442,\n",
       "   'fifthDragonCount': 446,\n",
       "   'fifthTigerCount': 401}}}"
      ]
     },
     "execution_count": 137,
     "metadata": {},
     "output_type": "execute_result"
    }
   ],
   "source": [
    "api_dic"
   ]
  },
  {
   "cell_type": "code",
   "execution_count": 138,
   "metadata": {},
   "outputs": [],
   "source": [
    "prize_str = api_dic['result']['data']['preDrawCode']"
   ]
  },
  {
   "cell_type": "code",
   "execution_count": 139,
   "metadata": {},
   "outputs": [
    {
     "data": {
      "text/plain": [
       "'09,01,05,03,04,08,02,06,07,10'"
      ]
     },
     "execution_count": 139,
     "metadata": {},
     "output_type": "execute_result"
    }
   ],
   "source": [
    "prize_str"
   ]
  },
  {
   "cell_type": "code",
   "execution_count": 140,
   "metadata": {},
   "outputs": [],
   "source": [
    "prize_list = number_string.split(',')"
   ]
  },
  {
   "cell_type": "code",
   "execution_count": 141,
   "metadata": {},
   "outputs": [
    {
     "data": {
      "text/plain": [
       "['07', '02', '05', '09', '06', '01', '03', '04', '10', '08']"
      ]
     },
     "execution_count": 141,
     "metadata": {},
     "output_type": "execute_result"
    }
   ],
   "source": [
    "prize_list"
   ]
  },
  {
   "cell_type": "code",
   "execution_count": null,
   "metadata": {},
   "outputs": [],
   "source": []
  },
  {
   "cell_type": "code",
   "execution_count": 1,
   "metadata": {},
   "outputs": [],
   "source": [
    "from datetime import datetime"
   ]
  },
  {
   "cell_type": "code",
   "execution_count": 143,
   "metadata": {},
   "outputs": [],
   "source": [
    "datetime_str = api_dic['result']['data']['drawTime']"
   ]
  },
  {
   "cell_type": "code",
   "execution_count": 144,
   "metadata": {},
   "outputs": [
    {
     "data": {
      "text/plain": [
       "'2021-08-13 17:39:18'"
      ]
     },
     "execution_count": 144,
     "metadata": {},
     "output_type": "execute_result"
    }
   ],
   "source": [
    "datetime_str"
   ]
  },
  {
   "cell_type": "code",
   "execution_count": 145,
   "metadata": {},
   "outputs": [
    {
     "name": "stdout",
     "output_type": "stream",
     "text": [
      "The type of the date is now <class 'datetime.datetime'>\n",
      "The date is 2021-08-13 17:39:18\n"
     ]
    }
   ],
   "source": [
    "datetime_obj = datetime.strptime(datetime_str, '%Y-%m-%d %H:%M:%S')\n",
    "\n",
    "\n",
    "print (\"The type of the date is now\",  type(datetime_obj))\n",
    "print (\"The date is\", datetime_obj)"
   ]
  },
  {
   "cell_type": "code",
   "execution_count": 146,
   "metadata": {},
   "outputs": [
    {
     "data": {
      "text/plain": [
       "39"
      ]
     },
     "execution_count": 146,
     "metadata": {},
     "output_type": "execute_result"
    }
   ],
   "source": [
    "datetime_obj.minute"
   ]
  },
  {
   "cell_type": "code",
   "execution_count": 147,
   "metadata": {},
   "outputs": [
    {
     "data": {
      "text/plain": [
       "18"
      ]
     },
     "execution_count": 147,
     "metadata": {},
     "output_type": "execute_result"
    }
   ],
   "source": [
    "datetime_obj.second"
   ]
  },
  {
   "cell_type": "code",
   "execution_count": 148,
   "metadata": {},
   "outputs": [
    {
     "data": {
      "text/plain": [
       "<function datetime.now(tz=None)>"
      ]
     },
     "execution_count": 148,
     "metadata": {},
     "output_type": "execute_result"
    }
   ],
   "source": [
    "datetime.now"
   ]
  },
  {
   "cell_type": "code",
   "execution_count": 208,
   "metadata": {},
   "outputs": [
    {
     "data": {
      "text/plain": [
       "datetime.datetime(2021, 8, 13, 12, 3, 34, 275774)"
      ]
     },
     "execution_count": 208,
     "metadata": {},
     "output_type": "execute_result"
    }
   ],
   "source": [
    "datetime.utcnow()"
   ]
  },
  {
   "cell_type": "code",
   "execution_count": 158,
   "metadata": {},
   "outputs": [
    {
     "name": "stdout",
     "output_type": "stream",
     "text": [
      "Help on built-in function now:\n",
      "\n",
      "now(tz=None) method of builtins.type instance\n",
      "    Returns new datetime object representing current time local to tz.\n",
      "    \n",
      "      tz\n",
      "        Timezone object.\n",
      "    \n",
      "    If no tz is specified, uses local timezone.\n",
      "\n"
     ]
    }
   ],
   "source": [
    "help(datetime.now)"
   ]
  },
  {
   "cell_type": "code",
   "execution_count": 2,
   "metadata": {},
   "outputs": [],
   "source": [
    "datetime_now = datetime.now()"
   ]
  },
  {
   "cell_type": "code",
   "execution_count": 3,
   "metadata": {},
   "outputs": [
    {
     "data": {
      "text/plain": [
       "datetime.datetime(2021, 8, 20, 17, 10, 39, 483012)"
      ]
     },
     "execution_count": 3,
     "metadata": {},
     "output_type": "execute_result"
    }
   ],
   "source": [
    "datetime_now"
   ]
  },
  {
   "cell_type": "code",
   "execution_count": 151,
   "metadata": {},
   "outputs": [],
   "source": [
    "minute = datetime_now.minute"
   ]
  },
  {
   "cell_type": "code",
   "execution_count": 153,
   "metadata": {},
   "outputs": [
    {
     "data": {
      "text/plain": [
       "38"
      ]
     },
     "execution_count": 153,
     "metadata": {},
     "output_type": "execute_result"
    }
   ],
   "source": [
    "minute"
   ]
  },
  {
   "cell_type": "code",
   "execution_count": 152,
   "metadata": {},
   "outputs": [],
   "source": [
    "second = datetime_now.second"
   ]
  },
  {
   "cell_type": "code",
   "execution_count": 154,
   "metadata": {},
   "outputs": [
    {
     "data": {
      "text/plain": [
       "52"
      ]
     },
     "execution_count": 154,
     "metadata": {},
     "output_type": "execute_result"
    }
   ],
   "source": [
    "second"
   ]
  },
  {
   "cell_type": "code",
   "execution_count": 215,
   "metadata": {},
   "outputs": [
    {
     "data": {
      "text/plain": [
       "1628856446.114406"
      ]
     },
     "execution_count": 215,
     "metadata": {},
     "output_type": "execute_result"
    }
   ],
   "source": [
    "datetime_now.timestamp()"
   ]
  },
  {
   "cell_type": "code",
   "execution_count": 163,
   "metadata": {},
   "outputs": [
    {
     "data": {
      "text/plain": [
       "1628847558.0"
      ]
     },
     "execution_count": 163,
     "metadata": {},
     "output_type": "execute_result"
    }
   ],
   "source": [
    "# next prize timestamp\n",
    "datetime_obj.timestamp()"
   ]
  },
  {
   "cell_type": "code",
   "execution_count": 232,
   "metadata": {},
   "outputs": [
    {
     "data": {
      "text/plain": [
       "datetime.datetime(2021, 8, 13, 20, 11, 51, 99269)"
      ]
     },
     "execution_count": 232,
     "metadata": {},
     "output_type": "execute_result"
    }
   ],
   "source": [
    "datetime.now()"
   ]
  },
  {
   "cell_type": "code",
   "execution_count": 14,
   "metadata": {},
   "outputs": [],
   "source": [
    "datetime_now = datetime.now()\n",
    "hour_now = datetime_now.hour\n",
    "minute_now = datetime_now.minute\n",
    "mix_hours = hour_now + minute_now/60"
   ]
  },
  {
   "cell_type": "code",
   "execution_count": 15,
   "metadata": {},
   "outputs": [
    {
     "data": {
      "text/plain": [
       "17.416666666666668"
      ]
     },
     "execution_count": 15,
     "metadata": {},
     "output_type": "execute_result"
    }
   ],
   "source": [
    "mix_hours"
   ]
  },
  {
   "cell_type": "code",
   "execution_count": 16,
   "metadata": {},
   "outputs": [
    {
     "data": {
      "text/plain": [
       "25"
      ]
     },
     "execution_count": 16,
     "metadata": {},
     "output_type": "execute_result"
    }
   ],
   "source": [
    "minute_now"
   ]
  },
  {
   "cell_type": "code",
   "execution_count": 19,
   "metadata": {},
   "outputs": [
    {
     "data": {
      "text/plain": [
       "True"
      ]
     },
     "execution_count": 19,
     "metadata": {},
     "output_type": "execute_result"
    }
   ],
   "source": [
    "4 + 1/60 > 4"
   ]
  },
  {
   "cell_type": "code",
   "execution_count": null,
   "metadata": {},
   "outputs": [],
   "source": []
  }
 ],
 "metadata": {
  "kernelspec": {
   "display_name": "Python 3",
   "language": "python",
   "name": "python3"
  },
  "language_info": {
   "codemirror_mode": {
    "name": "ipython",
    "version": 3
   },
   "file_extension": ".py",
   "mimetype": "text/x-python",
   "name": "python",
   "nbconvert_exporter": "python",
   "pygments_lexer": "ipython3",
   "version": "3.7.8"
  }
 },
 "nbformat": 4,
 "nbformat_minor": 4
}
