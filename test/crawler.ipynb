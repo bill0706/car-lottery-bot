{
 "cells": [
  {
   "cell_type": "code",
   "execution_count": 5,
   "metadata": {},
   "outputs": [],
   "source": [
    "import requests\n",
    "from bs4 import BeautifulSoup"
   ]
  },
  {
   "cell_type": "code",
   "execution_count": 41,
   "metadata": {},
   "outputs": [],
   "source": [
    "response = requests.get(\"http://www.gzyfxzl.com/pk10kai_history/\")"
   ]
  },
  {
   "cell_type": "code",
   "execution_count": 42,
   "metadata": {
    "scrolled": true
   },
   "outputs": [
    {
     "data": {
      "text/plain": [
       "<Response [200]>"
      ]
     },
     "execution_count": 42,
     "metadata": {},
     "output_type": "execute_result"
    }
   ],
   "source": [
    "response"
   ]
  },
  {
   "cell_type": "code",
   "execution_count": 43,
   "metadata": {},
   "outputs": [],
   "source": [
    "soup = BeautifulSoup(response.text, \"lxml\")"
   ]
  },
  {
   "cell_type": "code",
   "execution_count": 34,
   "metadata": {},
   "outputs": [],
   "source": [
    "# get "
   ]
  },
  {
   "cell_type": "code",
   "execution_count": 44,
   "metadata": {},
   "outputs": [],
   "source": [
    "time_block = soup.find(class_='cuttime')"
   ]
  },
  {
   "cell_type": "code",
   "execution_count": 45,
   "metadata": {},
   "outputs": [
    {
     "data": {
      "text/plain": [
       "<div class=\"cuttime\">\n",
       "<span class=\"bgtime hour\">00</span>\n",
       "<span class=\"hourtxt\">æ¶</span>\n",
       "<span class=\"bgtime minute\">00</span>\n",
       "<span>å</span>\n",
       "<span class=\"bgtime second\">00</span>\n",
       "<span>ç§</span>\n",
       "</div>"
      ]
     },
     "execution_count": 45,
     "metadata": {},
     "output_type": "execute_result"
    }
   ],
   "source": [
    "# time is fake\n",
    "time_block"
   ]
  },
  {
   "cell_type": "code",
   "execution_count": 14,
   "metadata": {},
   "outputs": [
    {
     "data": {
      "text/plain": [
       "<span class=\"bgtime minute\">00</span>"
      ]
     },
     "execution_count": 14,
     "metadata": {},
     "output_type": "execute_result"
    }
   ],
   "source": [
    "time_block.find(class_='bgtime minute')"
   ]
  },
  {
   "cell_type": "code",
   "execution_count": 16,
   "metadata": {},
   "outputs": [],
   "source": [
    "minute = time_block.find(class_='bgtime minute').text"
   ]
  },
  {
   "cell_type": "code",
   "execution_count": 17,
   "metadata": {},
   "outputs": [
    {
     "data": {
      "text/plain": [
       "'00'"
      ]
     },
     "execution_count": 17,
     "metadata": {},
     "output_type": "execute_result"
    }
   ],
   "source": [
    "minute"
   ]
  },
  {
   "cell_type": "code",
   "execution_count": 18,
   "metadata": {},
   "outputs": [],
   "source": [
    "second = time_block.find(class_='bgtime second').text"
   ]
  },
  {
   "cell_type": "code",
   "execution_count": null,
   "metadata": {},
   "outputs": [],
   "source": []
  },
  {
   "cell_type": "code",
   "execution_count": 19,
   "metadata": {},
   "outputs": [],
   "source": [
    "# get prize number"
   ]
  },
  {
   "cell_type": "code",
   "execution_count": 25,
   "metadata": {},
   "outputs": [],
   "source": [
    "number_block = soup.find(class_='numberbox')"
   ]
  },
  {
   "cell_type": "code",
   "execution_count": 26,
   "metadata": {
    "scrolled": true
   },
   "outputs": [
    {
     "data": {
      "text/plain": [
       "<ul class=\"numberbox\" id=\"jnumber\">\n",
       "<li class=\"numsm02\"></li>\n",
       "<li class=\"numsm01\"></li>\n",
       "<li class=\"numsm10\"></li>\n",
       "<li class=\"numsm04\"></li>\n",
       "<li class=\"numsm03\"></li>\n",
       "<li class=\"numsm06\"></li>\n",
       "<li class=\"numsm07\"></li>\n",
       "<li class=\"numsm08\"></li>\n",
       "<li class=\"numsm05\"></li>\n",
       "<li class=\"numsm09 li_after\"></li>\n",
       "</ul>"
      ]
     },
     "execution_count": 26,
     "metadata": {},
     "output_type": "execute_result"
    }
   ],
   "source": [
    "# it's fake html\n",
    "number_block "
   ]
  },
  {
   "cell_type": "code",
   "execution_count": null,
   "metadata": {},
   "outputs": [],
   "source": []
  },
  {
   "cell_type": "code",
   "execution_count": 132,
   "metadata": {},
   "outputs": [],
   "source": [
    "response = requests.get(\"https://api.apiose122.com/pks/getPksDoubleCount.do?date=&lotCode=10037\")"
   ]
  },
  {
   "cell_type": "code",
   "execution_count": 133,
   "metadata": {},
   "outputs": [
    {
     "data": {
      "text/plain": [
       "<Response [200]>"
      ]
     },
     "execution_count": 133,
     "metadata": {},
     "output_type": "execute_result"
    }
   ],
   "source": [
    "response"
   ]
  },
  {
   "cell_type": "code",
   "execution_count": 134,
   "metadata": {
    "scrolled": true
   },
   "outputs": [
    {
     "data": {
      "text/plain": [
       "'{\"errorCode\":0,\"message\":\"操作成功\",\"result\":{\"businessCode\":0,\"message\":\"操作成功\",\"data\":{\"id\":1848712,\"preDrawCode\":\"09,01,05,03,04,08,02,06,07,10\",\"drawCount\":847,\"preDrawDate\":\"2021-08-13\",\"preDrawTime\":\"2021-08-13 17:38:03\",\"drawTime\":\"2021-08-13 17:39:18\",\"preDrawIssue\":32013855,\"drawIssue\":32013856,\"enable\":0,\"firstSingleCount\":419,\"firstDoubleCount\":428,\"firstBigCount\":405,\"firstSmallCount\":442,\"secondSingleCount\":412,\"secondDoubleCount\":435,\"secondBigCount\":435,\"secondSmallCount\":412,\"thirdSingleCount\":424,\"thirdDoubleCount\":423,\"thirdBigCount\":425,\"thirdSmallCount\":422,\"fourthSingleCount\":429,\"fourthDoubleCount\":418,\"fourthBigCount\":403,\"fourthSmallCount\":444,\"fifthSingleCount\":391,\"fifthDoubleCount\":456,\"fifthBigCount\":463,\"fifthSmallCount\":384,\"sixthSingleCount\":436,\"sixthDoubleCount\":411,\"sixthBigCount\":431,\"sixthSmallCount\":416,\"seventhSingleCount\":414,\"seventhDoubleCount\":433,\"seventhBigCount\":433,\"seventhSmallCount\":414,\"eighthSingleCount\":426,\"eighthDoubleCount\":421,\"eighthBigCount\":408,\"eighthSmallCount\":439,\"ninthSingleCount\":441,\"ninthDoubleCount\":406,\"ninthBigCount\":422,\"ninthSmallCount\":425,\"tenthSingleCount\":443,\"tenthDoubleCount\":404,\"tenthBigCount\":410,\"tenthSmallCount\":437,\"sumSingleCount\":451,\"sumDoubleCount\":396,\"sumBigCount\":350,\"sumSmallCount\":497,\"firstDragonCount\":418,\"firstTigerCount\":429,\"secondDragonCount\":425,\"secondTigerCount\":422,\"thirdDragonCount\":431,\"thirdTigerCount\":416,\"fourthDragonCount\":405,\"fourthTigerCount\":442,\"fifthDragonCount\":446,\"fifthTigerCount\":401}}}'"
      ]
     },
     "execution_count": 134,
     "metadata": {},
     "output_type": "execute_result"
    }
   ],
   "source": [
    "response.text"
   ]
  },
  {
   "cell_type": "code",
   "execution_count": null,
   "metadata": {},
   "outputs": [],
   "source": []
  },
  {
   "cell_type": "code",
   "execution_count": 135,
   "metadata": {},
   "outputs": [],
   "source": [
    "import json"
   ]
  },
  {
   "cell_type": "code",
   "execution_count": 136,
   "metadata": {},
   "outputs": [],
   "source": [
    "api_dic = json.loads(response.text)"
   ]
  },
  {
   "cell_type": "code",
   "execution_count": 137,
   "metadata": {
    "scrolled": true
   },
   "outputs": [
    {
     "data": {
      "text/plain": [
       "{'errorCode': 0,\n",
       " 'message': '操作成功',\n",
       " 'result': {'businessCode': 0,\n",
       "  'message': '操作成功',\n",
       "  'data': {'id': 1848712,\n",
       "   'preDrawCode': '09,01,05,03,04,08,02,06,07,10',\n",
       "   'drawCount': 847,\n",
       "   'preDrawDate': '2021-08-13',\n",
       "   'preDrawTime': '2021-08-13 17:38:03',\n",
       "   'drawTime': '2021-08-13 17:39:18',\n",
       "   'preDrawIssue': 32013855,\n",
       "   'drawIssue': 32013856,\n",
       "   'enable': 0,\n",
       "   'firstSingleCount': 419,\n",
       "   'firstDoubleCount': 428,\n",
       "   'firstBigCount': 405,\n",
       "   'firstSmallCount': 442,\n",
       "   'secondSingleCount': 412,\n",
       "   'secondDoubleCount': 435,\n",
       "   'secondBigCount': 435,\n",
       "   'secondSmallCount': 412,\n",
       "   'thirdSingleCount': 424,\n",
       "   'thirdDoubleCount': 423,\n",
       "   'thirdBigCount': 425,\n",
       "   'thirdSmallCount': 422,\n",
       "   'fourthSingleCount': 429,\n",
       "   'fourthDoubleCount': 418,\n",
       "   'fourthBigCount': 403,\n",
       "   'fourthSmallCount': 444,\n",
       "   'fifthSingleCount': 391,\n",
       "   'fifthDoubleCount': 456,\n",
       "   'fifthBigCount': 463,\n",
       "   'fifthSmallCount': 384,\n",
       "   'sixthSingleCount': 436,\n",
       "   'sixthDoubleCount': 411,\n",
       "   'sixthBigCount': 431,\n",
       "   'sixthSmallCount': 416,\n",
       "   'seventhSingleCount': 414,\n",
       "   'seventhDoubleCount': 433,\n",
       "   'seventhBigCount': 433,\n",
       "   'seventhSmallCount': 414,\n",
       "   'eighthSingleCount': 426,\n",
       "   'eighthDoubleCount': 421,\n",
       "   'eighthBigCount': 408,\n",
       "   'eighthSmallCount': 439,\n",
       "   'ninthSingleCount': 441,\n",
       "   'ninthDoubleCount': 406,\n",
       "   'ninthBigCount': 422,\n",
       "   'ninthSmallCount': 425,\n",
       "   'tenthSingleCount': 443,\n",
       "   'tenthDoubleCount': 404,\n",
       "   'tenthBigCount': 410,\n",
       "   'tenthSmallCount': 437,\n",
       "   'sumSingleCount': 451,\n",
       "   'sumDoubleCount': 396,\n",
       "   'sumBigCount': 350,\n",
       "   'sumSmallCount': 497,\n",
       "   'firstDragonCount': 418,\n",
       "   'firstTigerCount': 429,\n",
       "   'secondDragonCount': 425,\n",
       "   'secondTigerCount': 422,\n",
       "   'thirdDragonCount': 431,\n",
       "   'thirdTigerCount': 416,\n",
       "   'fourthDragonCount': 405,\n",
       "   'fourthTigerCount': 442,\n",
       "   'fifthDragonCount': 446,\n",
       "   'fifthTigerCount': 401}}}"
      ]
     },
     "execution_count": 137,
     "metadata": {},
     "output_type": "execute_result"
    }
   ],
   "source": [
    "api_dic"
   ]
  },
  {
   "cell_type": "code",
   "execution_count": 138,
   "metadata": {},
   "outputs": [],
   "source": [
    "prize_str = api_dic['result']['data']['preDrawCode']"
   ]
  },
  {
   "cell_type": "code",
   "execution_count": 139,
   "metadata": {},
   "outputs": [
    {
     "data": {
      "text/plain": [
       "'09,01,05,03,04,08,02,06,07,10'"
      ]
     },
     "execution_count": 139,
     "metadata": {},
     "output_type": "execute_result"
    }
   ],
   "source": [
    "prize_str"
   ]
  },
  {
   "cell_type": "code",
   "execution_count": 140,
   "metadata": {},
   "outputs": [],
   "source": [
    "prize_list = number_string.split(',')"
   ]
  },
  {
   "cell_type": "code",
   "execution_count": 141,
   "metadata": {},
   "outputs": [
    {
     "data": {
      "text/plain": [
       "['07', '02', '05', '09', '06', '01', '03', '04', '10', '08']"
      ]
     },
     "execution_count": 141,
     "metadata": {},
     "output_type": "execute_result"
    }
   ],
   "source": [
    "prize_list"
   ]
  },
  {
   "cell_type": "code",
   "execution_count": null,
   "metadata": {},
   "outputs": [],
   "source": []
  },
  {
   "cell_type": "code",
   "execution_count": 142,
   "metadata": {},
   "outputs": [],
   "source": [
    "from datetime import datetime"
   ]
  },
  {
   "cell_type": "code",
   "execution_count": 143,
   "metadata": {},
   "outputs": [],
   "source": [
    "datetime_str = api_dic['result']['data']['drawTime']"
   ]
  },
  {
   "cell_type": "code",
   "execution_count": 144,
   "metadata": {},
   "outputs": [
    {
     "data": {
      "text/plain": [
       "'2021-08-13 17:39:18'"
      ]
     },
     "execution_count": 144,
     "metadata": {},
     "output_type": "execute_result"
    }
   ],
   "source": [
    "datetime_str"
   ]
  },
  {
   "cell_type": "code",
   "execution_count": 145,
   "metadata": {},
   "outputs": [
    {
     "name": "stdout",
     "output_type": "stream",
     "text": [
      "The type of the date is now <class 'datetime.datetime'>\n",
      "The date is 2021-08-13 17:39:18\n"
     ]
    }
   ],
   "source": [
    "datetime_obj = datetime.strptime(datetime_str, '%Y-%m-%d %H:%M:%S')\n",
    "\n",
    "\n",
    "print (\"The type of the date is now\",  type(datetime_obj))\n",
    "print (\"The date is\", datetime_obj)"
   ]
  },
  {
   "cell_type": "code",
   "execution_count": 146,
   "metadata": {},
   "outputs": [
    {
     "data": {
      "text/plain": [
       "39"
      ]
     },
     "execution_count": 146,
     "metadata": {},
     "output_type": "execute_result"
    }
   ],
   "source": [
    "datetime_obj.minute"
   ]
  },
  {
   "cell_type": "code",
   "execution_count": 147,
   "metadata": {},
   "outputs": [
    {
     "data": {
      "text/plain": [
       "18"
      ]
     },
     "execution_count": 147,
     "metadata": {},
     "output_type": "execute_result"
    }
   ],
   "source": [
    "datetime_obj.second"
   ]
  },
  {
   "cell_type": "code",
   "execution_count": 148,
   "metadata": {},
   "outputs": [
    {
     "data": {
      "text/plain": [
       "<function datetime.now(tz=None)>"
      ]
     },
     "execution_count": 148,
     "metadata": {},
     "output_type": "execute_result"
    }
   ],
   "source": [
    "datetime.now"
   ]
  },
  {
   "cell_type": "code",
   "execution_count": 149,
   "metadata": {},
   "outputs": [
    {
     "data": {
      "text/plain": [
       "datetime.datetime(2021, 8, 13, 9, 38, 52, 273201)"
      ]
     },
     "execution_count": 149,
     "metadata": {},
     "output_type": "execute_result"
    }
   ],
   "source": [
    "datetime.utcnow()"
   ]
  },
  {
   "cell_type": "code",
   "execution_count": 158,
   "metadata": {},
   "outputs": [
    {
     "name": "stdout",
     "output_type": "stream",
     "text": [
      "Help on built-in function now:\n",
      "\n",
      "now(tz=None) method of builtins.type instance\n",
      "    Returns new datetime object representing current time local to tz.\n",
      "    \n",
      "      tz\n",
      "        Timezone object.\n",
      "    \n",
      "    If no tz is specified, uses local timezone.\n",
      "\n"
     ]
    }
   ],
   "source": [
    "help(datetime.now)"
   ]
  },
  {
   "cell_type": "code",
   "execution_count": 150,
   "metadata": {},
   "outputs": [],
   "source": [
    "datetime_now = datetime.utcnow()"
   ]
  },
  {
   "cell_type": "code",
   "execution_count": 151,
   "metadata": {},
   "outputs": [],
   "source": [
    "minute = datetime_now.minute"
   ]
  },
  {
   "cell_type": "code",
   "execution_count": 153,
   "metadata": {},
   "outputs": [
    {
     "data": {
      "text/plain": [
       "38"
      ]
     },
     "execution_count": 153,
     "metadata": {},
     "output_type": "execute_result"
    }
   ],
   "source": [
    "minute"
   ]
  },
  {
   "cell_type": "code",
   "execution_count": 152,
   "metadata": {},
   "outputs": [],
   "source": [
    "second = datetime_now.second"
   ]
  },
  {
   "cell_type": "code",
   "execution_count": 154,
   "metadata": {},
   "outputs": [
    {
     "data": {
      "text/plain": [
       "52"
      ]
     },
     "execution_count": 154,
     "metadata": {},
     "output_type": "execute_result"
    }
   ],
   "source": [
    "second"
   ]
  },
  {
   "cell_type": "code",
   "execution_count": 161,
   "metadata": {},
   "outputs": [
    {
     "data": {
      "text/plain": [
       "1628818732.450273"
      ]
     },
     "execution_count": 161,
     "metadata": {},
     "output_type": "execute_result"
    }
   ],
   "source": [
    "datetime_now.timestamp()"
   ]
  },
  {
   "cell_type": "code",
   "execution_count": 163,
   "metadata": {},
   "outputs": [
    {
     "data": {
      "text/plain": [
       "1628847558.0"
      ]
     },
     "execution_count": 163,
     "metadata": {},
     "output_type": "execute_result"
    }
   ],
   "source": [
    "# next prize timestamp\n",
    "datetime_obj.timestamp()"
   ]
  },
  {
   "cell_type": "code",
   "execution_count": 196,
   "metadata": {},
   "outputs": [
    {
     "data": {
      "text/plain": [
       "datetime.datetime(2021, 8, 13, 9, 54, 18, 111605)"
      ]
     },
     "execution_count": 196,
     "metadata": {},
     "output_type": "execute_result"
    }
   ],
   "source": [
    "datetime.utcnow()"
   ]
  },
  {
   "cell_type": "code",
   "execution_count": null,
   "metadata": {},
   "outputs": [],
   "source": []
  },
  {
   "cell_type": "code",
   "execution_count": null,
   "metadata": {},
   "outputs": [],
   "source": []
  }
 ],
 "metadata": {
  "kernelspec": {
   "display_name": "Python 3",
   "language": "python",
   "name": "python3"
  },
  "language_info": {
   "codemirror_mode": {
    "name": "ipython",
    "version": 3
   },
   "file_extension": ".py",
   "mimetype": "text/x-python",
   "name": "python",
   "nbconvert_exporter": "python",
   "pygments_lexer": "ipython3",
   "version": "3.7.8"
  }
 },
 "nbformat": 4,
 "nbformat_minor": 4
}
